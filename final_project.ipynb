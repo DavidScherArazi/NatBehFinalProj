{
 "cells": [
  {
   "cell_type": "code",
   "execution_count": 1,
   "metadata": {},
   "outputs": [],
   "source": [
    "import ipywidgets\n",
    "import umap.umap_ as umap\n",
    "\n",
    "import numpy as np\n",
    "import pandas as pd\n",
    "import matplotlib.pyplot as plt\n",
    "from sklearn.cluster import KMeans, AgglomerativeClustering\n",
    "from sklearn.preprocessing import StandardScaler\n",
    "from scipy.cluster.hierarchy import dendrogram\n",
    "from sklearn.metrics import silhouette_score, adjusted_rand_score\n",
    "import seaborn as sns\n",
    "import os\n",
    "from ipywidgets import interact\n",
    "from matplotlib.widgets import Slider\n",
    "from umap import UMAP"
   ]
  },
  {
   "cell_type": "markdown",
   "metadata": {},
   "source": [
    "# Part 1: Supervised Learning\n",
    "## 1a. Data Loading and Cleaning"
   ]
  },
  {
   "cell_type": "code",
   "execution_count": 8,
   "metadata": {},
   "outputs": [],
   "source": [
    "# load from subfolder relative to current directory and drop missing\n",
    "\n",
    "trainX = pd.read_csv('train.csv')\n",
    "testX = pd.read_csv('test.csv')\n",
    "trainY = pd.read_csv('train_short_labels.csv')\n",
    "testY = pd.read_csv('test_short_labels.csv')\n",
    "blindX = pd.read_csv('blind_test.csv')\n",
    "\n",
    "# versions of the dataframes without missing values. In other situations we want to keep the existence of the rows in order to do the \n",
    "# movmean properly, or else delete the whole chunk (unnecessary)\n",
    "trainX_nn = trainX.dropna()\n",
    "testX_nn = testX.dropna()\n",
    "trainY_nn = trainY.dropna()\n",
    "testY_nn = testY.dropna()\n",
    "blindX_nn = blindX.dropna()\n",
    "    \n",
    "# get regular matrix copies because i'm a neanderthal \n",
    "trainX_m = trainX_nn.to_numpy()\n",
    "testX_m = testX_nn.to_numpy()\n",
    "trainY_m = trainY_nn.to_numpy()\n",
    "testY_m = testY_nn.to_numpy()\n",
    "blindX_m = blindX_nn.to_numpy()\n",
    "\n",
    "# 150 row chunks"
   ]
  },
  {
   "cell_type": "code",
   "execution_count": 9,
   "metadata": {},
   "outputs": [],
   "source": [
    "import scipy.spatial\n",
    "from scipy.spatial import ConvexHull\n",
    "\n",
    "def getAreas(matrix):\n",
    "    area = np.zeros((len(matrix), 2))\n",
    "\n",
    "    for i in range(0,len(matrix)):\n",
    "        temp = np.hsplit(matrix[i,1:27], 2)\n",
    "        temp = np.transpose(temp)\n",
    "        area[i, 0] = ConvexHull(temp).area\n",
    "\n",
    "        temp = np.hsplit(matrix[i,27:53], 2)\n",
    "        temp = np.transpose(temp)\n",
    "        area[i, 1] = ConvexHull(temp).area\n",
    "\n",
    "    return area\n",
    "\n",
    "trainX_area = getAreas(trainX_m)\n",
    "testX_area = getAreas(testX_m)\n",
    "blindX_area = getAreas(blindX_m)"
   ]
  },
  {
   "cell_type": "code",
   "execution_count": 16,
   "metadata": {},
   "outputs": [
    {
     "data": {
      "text/plain": [
       "Text(0.5, 0, 'Area')"
      ]
     },
     "execution_count": 16,
     "metadata": {},
     "output_type": "execute_result"
    },
    {
     "data": {
      "image/png": "[encoded data removed]",
      "text/plain": [
       "<Figure size 640x480 with 1 Axes>"
      ]
     },
     "metadata": {},
     "output_type": "display_data"
    }
   ],
   "source": [
    "import matplotlib.pyplot as plt\n",
    "\n",
    "plt.hist(trainX_area, 20, label=[\"Male\", \"Female\"], density=True)\n",
    "plt.legend()\n",
    "plt.title(\"trainX\")\n",
    "plt.xlabel(\"Area\")\n"
   ]
  },
  {
   "cell_type": "code",
   "execution_count": 4,
   "metadata": {},
   "outputs": [
    {
     "data": {
      "text/plain": [
       "SignificanceResult(statistic=0.017938112322406587, pvalue=1.5156234019465962e-18)"
      ]
     },
     "execution_count": 4,
     "metadata": {},
     "output_type": "execute_result"
    }
   ],
   "source": [
    "import scipy.stats\n",
    "\n",
    "#scipy.stats.wilcoxon(area)\n",
    "scipy.stats.spearmanr(area[:, 1], trainX_m[:,37])"
   ]
  }
 ],
 "metadata": {
  "kernelspec": {
   "display_name": ".venv",
   "language": "python",
   "name": "python3"
  },
  "language_info": {
   "codemirror_mode": {
    "name": "ipython",
    "version": 3
   },
   "file_extension": ".py",
   "mimetype": "text/x-python",
   "name": "python",
   "nbconvert_exporter": "python",
   "pygments_lexer": "ipython3",
   "version": "3.11.5"
  }
 },
 "nbformat": 4,
 "nbformat_minor": 2
}
